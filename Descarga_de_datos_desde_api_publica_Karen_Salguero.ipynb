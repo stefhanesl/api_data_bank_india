{
  "nbformat": 4,
  "nbformat_minor": 0,
  "metadata": {
    "colab": {
      "provenance": []
    },
    "kernelspec": {
      "name": "python3",
      "display_name": "Python 3"
    },
    "language_info": {
      "name": "python"
    }
  },
  "cells": [
    {
      "cell_type": "markdown",
      "source": [
        "Se obtuvieron dos indicadores importantes a nivel macroeconómico de India mediante la API del Data Bank del Banco Mundial. Debido a restricciones de solicitud, se recopilaron dos indicadores clave en lugar de más de 100 filas de datos. Estos indicadores son relevantes para el proyecto de Home Credit.\n",
        "\n",
        "El primero de ellos es la tasa de interés real, que desempeña un papel crucial al evaluar la propensión de las personas y entidades a solicitar créditos. Una tasa de interés real más alta puede influir en la decisión de una persona o entidad para buscar financiamiento, ya que afecta directamente los costos de endeudamiento.\n",
        "\n",
        "El segundo indicador es la proporción de créditos otorgados al sector privado en relación con la tasa monetaria. Esta métrica nos brinda información valiosa sobre si Home Credit ha proporcionado financiamiento y liquidez para el crecimiento y desarrollo de las empresas en India. Esta relación también puede estar correlacionada con el empleo de los prestatarios, ya que un mayor acceso al crédito puede fomentar la expansión y creación de empleo en el sector privado.\n",
        "\n",
        "Estos indicadores son de gran relevancia para el análisis y evaluación de las condiciones económicas y el impacto de Home Credit en el entorno financiero de India."
      ],
      "metadata": {
        "id": "8acEK7FPUwdE"
      }
    },
    {
      "cell_type": "code",
      "source": [
        "import json\n",
        "import  pandas as pd\n",
        "import requests\n",
        "import matplotlib.pyplot as plt"
      ],
      "metadata": {
        "id": "WQ_fVCWtVV5B"
      },
      "execution_count": 1,
      "outputs": []
    },
    {
      "cell_type": "code",
      "execution_count": 2,
      "metadata": {
        "id": "Ze2yxc82NPxf"
      },
      "outputs": [],
      "source": [
        "tasa_interes_real_anual_india = requests.get('https://api.worldbank.org/v2/country/IN/indicator/FR.INR.RINR?format=json')"
      ]
    },
    {
      "cell_type": "code",
      "source": [
        "creditos_sector_privado_como_porcentaje_tasa_monetaria_india = requests.get('https://api.worldbank.org/v2/country/IN/indicator/FD.AST.PRVT.GD.ZS?format=json')"
      ],
      "metadata": {
        "id": "vNgtUHLJg8mg"
      },
      "execution_count": 3,
      "outputs": []
    },
    {
      "cell_type": "code",
      "source": [
        "print(tasa_interes_real_anual_india.text)"
      ],
      "metadata": {
        "colab": {
          "base_uri": "https://localhost:8080/"
        },
        "id": "jhDsIihkXT7A",
        "outputId": "f77e7866-a71d-4837-af0c-37ce0ead656c"
      },
      "execution_count": 4,
      "outputs": [
        {
          "output_type": "stream",
          "name": "stdout",
          "text": [
            "[{\"page\":1,\"pages\":2,\"per_page\":50,\"total\":63,\"sourceid\":\"2\",\"lastupdated\":\"2023-06-29\"},[{\"indicator\":{\"id\":\"FR.INR.RINR\",\"value\":\"Real interest rate (%)\"},\"country\":{\"id\":\"IN\",\"value\":\"India\"},\"countryiso3code\":\"IND\",\"date\":\"2022\",\"value\":0.229815062339361,\"unit\":\"\",\"obs_status\":\"\",\"decimal\":1},{\"indicator\":{\"id\":\"FR.INR.RINR\",\"value\":\"Real interest rate (%)\"},\"country\":{\"id\":\"IN\",\"value\":\"India\"},\"countryiso3code\":\"IND\",\"date\":\"2021\",\"value\":0.147236063271482,\"unit\":\"\",\"obs_status\":\"\",\"decimal\":1},{\"indicator\":{\"id\":\"FR.INR.RINR\",\"value\":\"Real interest rate (%)\"},\"country\":{\"id\":\"IN\",\"value\":\"India\"},\"countryiso3code\":\"IND\",\"date\":\"2020\",\"value\":4.2039104030298,\"unit\":\"\",\"obs_status\":\"\",\"decimal\":1},{\"indicator\":{\"id\":\"FR.INR.RINR\",\"value\":\"Real interest rate (%)\"},\"country\":{\"id\":\"IN\",\"value\":\"India\"},\"countryiso3code\":\"IND\",\"date\":\"2019\",\"value\":6.89487542729716,\"unit\":\"\",\"obs_status\":\"\",\"decimal\":1},{\"indicator\":{\"id\":\"FR.INR.RINR\",\"value\":\"Real interest rate (%)\"},\"country\":{\"id\":\"IN\",\"value\":\"India\"},\"countryiso3code\":\"IND\",\"date\":\"2018\",\"value\":5.36166638954869,\"unit\":\"\",\"obs_status\":\"\",\"decimal\":1},{\"indicator\":{\"id\":\"FR.INR.RINR\",\"value\":\"Real interest rate (%)\"},\"country\":{\"id\":\"IN\",\"value\":\"India\"},\"countryiso3code\":\"IND\",\"date\":\"2017\",\"value\":5.32760886237311,\"unit\":\"\",\"obs_status\":\"\",\"decimal\":1},{\"indicator\":{\"id\":\"FR.INR.RINR\",\"value\":\"Real interest rate (%)\"},\"country\":{\"id\":\"IN\",\"value\":\"India\"},\"countryiso3code\":\"IND\",\"date\":\"2016\",\"value\":6.2327114148242,\"unit\":\"\",\"obs_status\":\"\",\"decimal\":1},{\"indicator\":{\"id\":\"FR.INR.RINR\",\"value\":\"Real interest rate (%)\"},\"country\":{\"id\":\"IN\",\"value\":\"India\"},\"countryiso3code\":\"IND\",\"date\":\"2015\",\"value\":7.55648841353986,\"unit\":\"\",\"obs_status\":\"\",\"decimal\":1},{\"indicator\":{\"id\":\"FR.INR.RINR\",\"value\":\"Real interest rate (%)\"},\"country\":{\"id\":\"IN\",\"value\":\"India\"},\"countryiso3code\":\"IND\",\"date\":\"2014\",\"value\":6.69517609043592,\"unit\":\"\",\"obs_status\":\"\",\"decimal\":1},{\"indicator\":{\"id\":\"FR.INR.RINR\",\"value\":\"Real interest rate (%)\"},\"country\":{\"id\":\"IN\",\"value\":\"India\"},\"countryiso3code\":\"IND\",\"date\":\"2013\",\"value\":3.86599288380776,\"unit\":\"\",\"obs_status\":\"\",\"decimal\":1},{\"indicator\":{\"id\":\"FR.INR.RINR\",\"value\":\"Real interest rate (%)\"},\"country\":{\"id\":\"IN\",\"value\":\"India\"},\"countryiso3code\":\"IND\",\"date\":\"2012\",\"value\":2.47352163532125,\"unit\":\"\",\"obs_status\":\"\",\"decimal\":1},{\"indicator\":{\"id\":\"FR.INR.RINR\",\"value\":\"Real interest rate (%)\"},\"country\":{\"id\":\"IN\",\"value\":\"India\"},\"countryiso3code\":\"IND\",\"date\":\"2011\",\"value\":1.31797970849672,\"unit\":\"\",\"obs_status\":\"\",\"decimal\":1},{\"indicator\":{\"id\":\"FR.INR.RINR\",\"value\":\"Real interest rate (%)\"},\"country\":{\"id\":\"IN\",\"value\":\"India\"},\"countryiso3code\":\"IND\",\"date\":\"2010\",\"value\":-1.98385922230245,\"unit\":\"\",\"obs_status\":\"\",\"decimal\":1},{\"indicator\":{\"id\":\"FR.INR.RINR\",\"value\":\"Real interest rate (%)\"},\"country\":{\"id\":\"IN\",\"value\":\"India\"},\"countryiso3code\":\"IND\",\"date\":\"2009\",\"value\":4.80859210832915,\"unit\":\"\",\"obs_status\":\"\",\"decimal\":1},{\"indicator\":{\"id\":\"FR.INR.RINR\",\"value\":\"Real interest rate (%)\"},\"country\":{\"id\":\"IN\",\"value\":\"India\"},\"countryiso3code\":\"IND\",\"date\":\"2008\",\"value\":3.77175624975725,\"unit\":\"\",\"obs_status\":\"\",\"decimal\":1},{\"indicator\":{\"id\":\"FR.INR.RINR\",\"value\":\"Real interest rate (%)\"},\"country\":{\"id\":\"IN\",\"value\":\"India\"},\"countryiso3code\":\"IND\",\"date\":\"2007\",\"value\":5.68184406332425,\"unit\":\"\",\"obs_status\":\"\",\"decimal\":1},{\"indicator\":{\"id\":\"FR.INR.RINR\",\"value\":\"Real interest rate (%)\"},\"country\":{\"id\":\"IN\",\"value\":\"India\"},\"countryiso3code\":\"IND\",\"date\":\"2006\",\"value\":2.57060670201817,\"unit\":\"\",\"obs_status\":\"\",\"decimal\":1},{\"indicator\":{\"id\":\"FR.INR.RINR\",\"value\":\"Real interest rate (%)\"},\"country\":{\"id\":\"IN\",\"value\":\"India\"},\"countryiso3code\":\"IND\",\"date\":\"2005\",\"value\":4.85514517245753,\"unit\":\"\",\"obs_status\":\"\",\"decimal\":1},{\"indicator\":{\"id\":\"FR.INR.RINR\",\"value\":\"Real interest rate (%)\"},\"country\":{\"id\":\"IN\",\"value\":\"India\"},\"countryiso3code\":\"IND\",\"date\":\"2004\",\"value\":4.91012830381202,\"unit\":\"\",\"obs_status\":\"\",\"decimal\":1},{\"indicator\":{\"id\":\"FR.INR.RINR\",\"value\":\"Real interest rate (%)\"},\"country\":{\"id\":\"IN\",\"value\":\"India\"},\"countryiso3code\":\"IND\",\"date\":\"2003\",\"value\":7.30788115953461,\"unit\":\"\",\"obs_status\":\"\",\"decimal\":1},{\"indicator\":{\"id\":\"FR.INR.RINR\",\"value\":\"Real interest rate (%)\"},\"country\":{\"id\":\"IN\",\"value\":\"India\"},\"countryiso3code\":\"IND\",\"date\":\"2002\",\"value\":7.90717719010452,\"unit\":\"\",\"obs_status\":\"\",\"decimal\":1},{\"indicator\":{\"id\":\"FR.INR.RINR\",\"value\":\"Real interest rate (%)\"},\"country\":{\"id\":\"IN\",\"value\":\"India\"},\"countryiso3code\":\"IND\",\"date\":\"2001\",\"value\":8.59144929618339,\"unit\":\"\",\"obs_status\":\"\",\"decimal\":1},{\"indicator\":{\"id\":\"FR.INR.RINR\",\"value\":\"Real interest rate (%)\"},\"country\":{\"id\":\"IN\",\"value\":\"India\"},\"countryiso3code\":\"IND\",\"date\":\"2000\",\"value\":8.34261083012153,\"unit\":\"\",\"obs_status\":\"\",\"decimal\":1},{\"indicator\":{\"id\":\"FR.INR.RINR\",\"value\":\"Real interest rate (%)\"},\"country\":{\"id\":\"IN\",\"value\":\"India\"},\"countryiso3code\":\"IND\",\"date\":\"1999\",\"value\":9.19124732467082,\"unit\":\"\",\"obs_status\":\"\",\"decimal\":1},{\"indicator\":{\"id\":\"FR.INR.RINR\",\"value\":\"Real interest rate (%)\"},\"country\":{\"id\":\"IN\",\"value\":\"India\"},\"countryiso3code\":\"IND\",\"date\":\"1998\",\"value\":5.1212763300933,\"unit\":\"\",\"obs_status\":\"\",\"decimal\":1},{\"indicator\":{\"id\":\"FR.INR.RINR\",\"value\":\"Real interest rate (%)\"},\"country\":{\"id\":\"IN\",\"value\":\"India\"},\"countryiso3code\":\"IND\",\"date\":\"1997\",\"value\":6.90957899163785,\"unit\":\"\",\"obs_status\":\"\",\"decimal\":1},{\"indicator\":{\"id\":\"FR.INR.RINR\",\"value\":\"Real interest rate (%)\"},\"country\":{\"id\":\"IN\",\"value\":\"India\"},\"countryiso3code\":\"IND\",\"date\":\"1996\",\"value\":7.79299430170532,\"unit\":\"\",\"obs_status\":\"\",\"decimal\":1},{\"indicator\":{\"id\":\"FR.INR.RINR\",\"value\":\"Real interest rate (%)\"},\"country\":{\"id\":\"IN\",\"value\":\"India\"},\"countryiso3code\":\"IND\",\"date\":\"1995\",\"value\":5.86417811281615,\"unit\":\"\",\"obs_status\":\"\",\"decimal\":1},{\"indicator\":{\"id\":\"FR.INR.RINR\",\"value\":\"Real interest rate (%)\"},\"country\":{\"id\":\"IN\",\"value\":\"India\"},\"countryiso3code\":\"IND\",\"date\":\"1994\",\"value\":4.33710973165325,\"unit\":\"\",\"obs_status\":\"\",\"decimal\":1},{\"indicator\":{\"id\":\"FR.INR.RINR\",\"value\":\"Real interest rate (%)\"},\"country\":{\"id\":\"IN\",\"value\":\"India\"},\"countryiso3code\":\"IND\",\"date\":\"1993\",\"value\":5.81477651403259,\"unit\":\"\",\"obs_status\":\"\",\"decimal\":1},{\"indicator\":{\"id\":\"FR.INR.RINR\",\"value\":\"Real interest rate (%)\"},\"country\":{\"id\":\"IN\",\"value\":\"India\"},\"countryiso3code\":\"IND\",\"date\":\"1992\",\"value\":9.13274940718732,\"unit\":\"\",\"obs_status\":\"\",\"decimal\":1},{\"indicator\":{\"id\":\"FR.INR.RINR\",\"value\":\"Real interest rate (%)\"},\"country\":{\"id\":\"IN\",\"value\":\"India\"},\"countryiso3code\":\"IND\",\"date\":\"1991\",\"value\":3.62471659411946,\"unit\":\"\",\"obs_status\":\"\",\"decimal\":1},{\"indicator\":{\"id\":\"FR.INR.RINR\",\"value\":\"Real interest rate (%)\"},\"country\":{\"id\":\"IN\",\"value\":\"India\"},\"countryiso3code\":\"IND\",\"date\":\"1990\",\"value\":5.26952699827423,\"unit\":\"\",\"obs_status\":\"\",\"decimal\":1},{\"indicator\":{\"id\":\"FR.INR.RINR\",\"value\":\"Real interest rate (%)\"},\"country\":{\"id\":\"IN\",\"value\":\"India\"},\"countryiso3code\":\"IND\",\"date\":\"1989\",\"value\":7.43584324824212,\"unit\":\"\",\"obs_status\":\"\",\"decimal\":1},{\"indicator\":{\"id\":\"FR.INR.RINR\",\"value\":\"Real interest rate (%)\"},\"country\":{\"id\":\"IN\",\"value\":\"India\"},\"countryiso3code\":\"IND\",\"date\":\"1988\",\"value\":7.63863299594509,\"unit\":\"\",\"obs_status\":\"\",\"decimal\":1},{\"indicator\":{\"id\":\"FR.INR.RINR\",\"value\":\"Real interest rate (%)\"},\"country\":{\"id\":\"IN\",\"value\":\"India\"},\"countryiso3code\":\"IND\",\"date\":\"1987\",\"value\":6.56018009415452,\"unit\":\"\",\"obs_status\":\"\",\"decimal\":1},{\"indicator\":{\"id\":\"FR.INR.RINR\",\"value\":\"Real interest rate (%)\"},\"country\":{\"id\":\"IN\",\"value\":\"India\"},\"countryiso3code\":\"IND\",\"date\":\"1986\",\"value\":9.09322414508824,\"unit\":\"\",\"obs_status\":\"\",\"decimal\":1},{\"indicator\":{\"id\":\"FR.INR.RINR\",\"value\":\"Real interest rate (%)\"},\"country\":{\"id\":\"IN\",\"value\":\"India\"},\"countryiso3code\":\"IND\",\"date\":\"1985\",\"value\":8.68167358478664,\"unit\":\"\",\"obs_status\":\"\",\"decimal\":1},{\"indicator\":{\"id\":\"FR.INR.RINR\",\"value\":\"Real interest rate (%)\"},\"country\":{\"id\":\"IN\",\"value\":\"India\"},\"countryiso3code\":\"IND\",\"date\":\"1984\",\"value\":7.94709992039818,\"unit\":\"\",\"obs_status\":\"\",\"decimal\":1},{\"indicator\":{\"id\":\"FR.INR.RINR\",\"value\":\"Real interest rate (%)\"},\"country\":{\"id\":\"IN\",\"value\":\"India\"},\"countryiso3code\":\"IND\",\"date\":\"1983\",\"value\":7.32098668508481,\"unit\":\"\",\"obs_status\":\"\",\"decimal\":1},{\"indicator\":{\"id\":\"FR.INR.RINR\",\"value\":\"Real interest rate (%)\"},\"country\":{\"id\":\"IN\",\"value\":\"India\"},\"countryiso3code\":\"IND\",\"date\":\"1982\",\"value\":7.77470724439598,\"unit\":\"\",\"obs_status\":\"\",\"decimal\":1},{\"indicator\":{\"id\":\"FR.INR.RINR\",\"value\":\"Real interest rate (%)\"},\"country\":{\"id\":\"IN\",\"value\":\"India\"},\"countryiso3code\":\"IND\",\"date\":\"1981\",\"value\":5.11823674143201,\"unit\":\"\",\"obs_status\":\"\",\"decimal\":1},{\"indicator\":{\"id\":\"FR.INR.RINR\",\"value\":\"Real interest rate (%)\"},\"country\":{\"id\":\"IN\",\"value\":\"India\"},\"countryiso3code\":\"IND\",\"date\":\"1980\",\"value\":4.47650826090093,\"unit\":\"\",\"obs_status\":\"\",\"decimal\":1},{\"indicator\":{\"id\":\"FR.INR.RINR\",\"value\":\"Real interest rate (%)\"},\"country\":{\"id\":\"IN\",\"value\":\"India\"},\"countryiso3code\":\"IND\",\"date\":\"1979\",\"value\":-1.06114574577495,\"unit\":\"\",\"obs_status\":\"\",\"decimal\":1},{\"indicator\":{\"id\":\"FR.INR.RINR\",\"value\":\"Real interest rate (%)\"},\"country\":{\"id\":\"IN\",\"value\":\"India\"},\"countryiso3code\":\"IND\",\"date\":\"1978\",\"value\":10.7746313302481,\"unit\":\"\",\"obs_status\":\"\",\"decimal\":1},{\"indicator\":{\"id\":\"FR.INR.RINR\",\"value\":\"Real interest rate (%)\"},\"country\":{\"id\":\"IN\",\"value\":\"India\"},\"countryiso3code\":\"IND\",\"date\":\"1977\",\"value\":null,\"unit\":\"\",\"obs_status\":\"\",\"decimal\":1},{\"indicator\":{\"id\":\"FR.INR.RINR\",\"value\":\"Real interest rate (%)\"},\"country\":{\"id\":\"IN\",\"value\":\"India\"},\"countryiso3code\":\"IND\",\"date\":\"1976\",\"value\":null,\"unit\":\"\",\"obs_status\":\"\",\"decimal\":1},{\"indicator\":{\"id\":\"FR.INR.RINR\",\"value\":\"Real interest rate (%)\"},\"country\":{\"id\":\"IN\",\"value\":\"India\"},\"countryiso3code\":\"IND\",\"date\":\"1975\",\"value\":null,\"unit\":\"\",\"obs_status\":\"\",\"decimal\":1},{\"indicator\":{\"id\":\"FR.INR.RINR\",\"value\":\"Real interest rate (%)\"},\"country\":{\"id\":\"IN\",\"value\":\"India\"},\"countryiso3code\":\"IND\",\"date\":\"1974\",\"value\":null,\"unit\":\"\",\"obs_status\":\"\",\"decimal\":1},{\"indicator\":{\"id\":\"FR.INR.RINR\",\"value\":\"Real interest rate (%)\"},\"country\":{\"id\":\"IN\",\"value\":\"India\"},\"countryiso3code\":\"IND\",\"date\":\"1973\",\"value\":null,\"unit\":\"\",\"obs_status\":\"\",\"decimal\":1}]]\n"
          ]
        }
      ]
    },
    {
      "cell_type": "code",
      "source": [
        "respuesta1 = json.loads(tasa_interes_real_anual_india.text)"
      ],
      "metadata": {
        "id": "xCivaNPeXIKx"
      },
      "execution_count": 5,
      "outputs": []
    },
    {
      "cell_type": "code",
      "source": [
        "respuesta2 = json.loads(creditos_sector_privado_como_porcentaje_tasa_monetaria_india.text)"
      ],
      "metadata": {
        "id": "Nrr14Ocljv01"
      },
      "execution_count": 6,
      "outputs": []
    },
    {
      "cell_type": "code",
      "source": [
        "metadatos1, datos1 = respuesta1[0], respuesta1[1]\n",
        "metadatos2, datos2 = respuesta2[0], respuesta2[1]\n"
      ],
      "metadata": {
        "id": "Sm9J1xGJXwG_"
      },
      "execution_count": 7,
      "outputs": []
    },
    {
      "cell_type": "code",
      "source": [
        "df_tasa_real_int = pd.DataFrame.from_dict(datos1)\n",
        "df_creditos = pd.DataFrame.from_dict(datos2)"
      ],
      "metadata": {
        "id": "Axg-70yTVj-f"
      },
      "execution_count": 8,
      "outputs": []
    },
    {
      "cell_type": "code",
      "source": [
        "df_tasa_real_int.head()"
      ],
      "metadata": {
        "colab": {
          "base_uri": "https://localhost:8080/",
          "height": 206
        },
        "id": "h5FsHNV-WNEU",
        "outputId": "100abb6c-2062-4f64-b4d7-063a5dd35763"
      },
      "execution_count": 9,
      "outputs": [
        {
          "output_type": "execute_result",
          "data": {
            "text/plain": [
              "                                           indicator  \\\n",
              "0  {'id': 'FR.INR.RINR', 'value': 'Real interest ...   \n",
              "1  {'id': 'FR.INR.RINR', 'value': 'Real interest ...   \n",
              "2  {'id': 'FR.INR.RINR', 'value': 'Real interest ...   \n",
              "3  {'id': 'FR.INR.RINR', 'value': 'Real interest ...   \n",
              "4  {'id': 'FR.INR.RINR', 'value': 'Real interest ...   \n",
              "\n",
              "                          country countryiso3code  date     value unit  \\\n",
              "0  {'id': 'IN', 'value': 'India'}             IND  2022  0.229815        \n",
              "1  {'id': 'IN', 'value': 'India'}             IND  2021  0.147236        \n",
              "2  {'id': 'IN', 'value': 'India'}             IND  2020  4.203910        \n",
              "3  {'id': 'IN', 'value': 'India'}             IND  2019  6.894875        \n",
              "4  {'id': 'IN', 'value': 'India'}             IND  2018  5.361666        \n",
              "\n",
              "  obs_status  decimal  \n",
              "0                   1  \n",
              "1                   1  \n",
              "2                   1  \n",
              "3                   1  \n",
              "4                   1  "
            ],
            "text/html": [
              "\n",
              "  <div id=\"df-f6af476f-acff-4436-a4fe-a46d0a62cddb\">\n",
              "    <div class=\"colab-df-container\">\n",
              "      <div>\n",
              "<style scoped>\n",
              "    .dataframe tbody tr th:only-of-type {\n",
              "        vertical-align: middle;\n",
              "    }\n",
              "\n",
              "    .dataframe tbody tr th {\n",
              "        vertical-align: top;\n",
              "    }\n",
              "\n",
              "    .dataframe thead th {\n",
              "        text-align: right;\n",
              "    }\n",
              "</style>\n",
              "<table border=\"1\" class=\"dataframe\">\n",
              "  <thead>\n",
              "    <tr style=\"text-align: right;\">\n",
              "      <th></th>\n",
              "      <th>indicator</th>\n",
              "      <th>country</th>\n",
              "      <th>countryiso3code</th>\n",
              "      <th>date</th>\n",
              "      <th>value</th>\n",
              "      <th>unit</th>\n",
              "      <th>obs_status</th>\n",
              "      <th>decimal</th>\n",
              "    </tr>\n",
              "  </thead>\n",
              "  <tbody>\n",
              "    <tr>\n",
              "      <th>0</th>\n",
              "      <td>{'id': 'FR.INR.RINR', 'value': 'Real interest ...</td>\n",
              "      <td>{'id': 'IN', 'value': 'India'}</td>\n",
              "      <td>IND</td>\n",
              "      <td>2022</td>\n",
              "      <td>0.229815</td>\n",
              "      <td></td>\n",
              "      <td></td>\n",
              "      <td>1</td>\n",
              "    </tr>\n",
              "    <tr>\n",
              "      <th>1</th>\n",
              "      <td>{'id': 'FR.INR.RINR', 'value': 'Real interest ...</td>\n",
              "      <td>{'id': 'IN', 'value': 'India'}</td>\n",
              "      <td>IND</td>\n",
              "      <td>2021</td>\n",
              "      <td>0.147236</td>\n",
              "      <td></td>\n",
              "      <td></td>\n",
              "      <td>1</td>\n",
              "    </tr>\n",
              "    <tr>\n",
              "      <th>2</th>\n",
              "      <td>{'id': 'FR.INR.RINR', 'value': 'Real interest ...</td>\n",
              "      <td>{'id': 'IN', 'value': 'India'}</td>\n",
              "      <td>IND</td>\n",
              "      <td>2020</td>\n",
              "      <td>4.203910</td>\n",
              "      <td></td>\n",
              "      <td></td>\n",
              "      <td>1</td>\n",
              "    </tr>\n",
              "    <tr>\n",
              "      <th>3</th>\n",
              "      <td>{'id': 'FR.INR.RINR', 'value': 'Real interest ...</td>\n",
              "      <td>{'id': 'IN', 'value': 'India'}</td>\n",
              "      <td>IND</td>\n",
              "      <td>2019</td>\n",
              "      <td>6.894875</td>\n",
              "      <td></td>\n",
              "      <td></td>\n",
              "      <td>1</td>\n",
              "    </tr>\n",
              "    <tr>\n",
              "      <th>4</th>\n",
              "      <td>{'id': 'FR.INR.RINR', 'value': 'Real interest ...</td>\n",
              "      <td>{'id': 'IN', 'value': 'India'}</td>\n",
              "      <td>IND</td>\n",
              "      <td>2018</td>\n",
              "      <td>5.361666</td>\n",
              "      <td></td>\n",
              "      <td></td>\n",
              "      <td>1</td>\n",
              "    </tr>\n",
              "  </tbody>\n",
              "</table>\n",
              "</div>\n",
              "      <button class=\"colab-df-convert\" onclick=\"convertToInteractive('df-f6af476f-acff-4436-a4fe-a46d0a62cddb')\"\n",
              "              title=\"Convert this dataframe to an interactive table.\"\n",
              "              style=\"display:none;\">\n",
              "        \n",
              "  <svg xmlns=\"http://www.w3.org/2000/svg\" height=\"24px\"viewBox=\"0 0 24 24\"\n",
              "       width=\"24px\">\n",
              "    <path d=\"M0 0h24v24H0V0z\" fill=\"none\"/>\n",
              "    <path d=\"M18.56 5.44l.94 2.06.94-2.06 2.06-.94-2.06-.94-.94-2.06-.94 2.06-2.06.94zm-11 1L8.5 8.5l.94-2.06 2.06-.94-2.06-.94L8.5 2.5l-.94 2.06-2.06.94zm10 10l.94 2.06.94-2.06 2.06-.94-2.06-.94-.94-2.06-.94 2.06-2.06.94z\"/><path d=\"M17.41 7.96l-1.37-1.37c-.4-.4-.92-.59-1.43-.59-.52 0-1.04.2-1.43.59L10.3 9.45l-7.72 7.72c-.78.78-.78 2.05 0 2.83L4 21.41c.39.39.9.59 1.41.59.51 0 1.02-.2 1.41-.59l7.78-7.78 2.81-2.81c.8-.78.8-2.07 0-2.86zM5.41 20L4 18.59l7.72-7.72 1.47 1.35L5.41 20z\"/>\n",
              "  </svg>\n",
              "      </button>\n",
              "      \n",
              "  <style>\n",
              "    .colab-df-container {\n",
              "      display:flex;\n",
              "      flex-wrap:wrap;\n",
              "      gap: 12px;\n",
              "    }\n",
              "\n",
              "    .colab-df-convert {\n",
              "      background-color: #E8F0FE;\n",
              "      border: none;\n",
              "      border-radius: 50%;\n",
              "      cursor: pointer;\n",
              "      display: none;\n",
              "      fill: #1967D2;\n",
              "      height: 32px;\n",
              "      padding: 0 0 0 0;\n",
              "      width: 32px;\n",
              "    }\n",
              "\n",
              "    .colab-df-convert:hover {\n",
              "      background-color: #E2EBFA;\n",
              "      box-shadow: 0px 1px 2px rgba(60, 64, 67, 0.3), 0px 1px 3px 1px rgba(60, 64, 67, 0.15);\n",
              "      fill: #174EA6;\n",
              "    }\n",
              "\n",
              "    [theme=dark] .colab-df-convert {\n",
              "      background-color: #3B4455;\n",
              "      fill: #D2E3FC;\n",
              "    }\n",
              "\n",
              "    [theme=dark] .colab-df-convert:hover {\n",
              "      background-color: #434B5C;\n",
              "      box-shadow: 0px 1px 3px 1px rgba(0, 0, 0, 0.15);\n",
              "      filter: drop-shadow(0px 1px 2px rgba(0, 0, 0, 0.3));\n",
              "      fill: #FFFFFF;\n",
              "    }\n",
              "  </style>\n",
              "\n",
              "      <script>\n",
              "        const buttonEl =\n",
              "          document.querySelector('#df-f6af476f-acff-4436-a4fe-a46d0a62cddb button.colab-df-convert');\n",
              "        buttonEl.style.display =\n",
              "          google.colab.kernel.accessAllowed ? 'block' : 'none';\n",
              "\n",
              "        async function convertToInteractive(key) {\n",
              "          const element = document.querySelector('#df-f6af476f-acff-4436-a4fe-a46d0a62cddb');\n",
              "          const dataTable =\n",
              "            await google.colab.kernel.invokeFunction('convertToInteractive',\n",
              "                                                     [key], {});\n",
              "          if (!dataTable) return;\n",
              "\n",
              "          const docLinkHtml = 'Like what you see? Visit the ' +\n",
              "            '<a target=\"_blank\" href=https://colab.research.google.com/notebooks/data_table.ipynb>data table notebook</a>'\n",
              "            + ' to learn more about interactive tables.';\n",
              "          element.innerHTML = '';\n",
              "          dataTable['output_type'] = 'display_data';\n",
              "          await google.colab.output.renderOutput(dataTable, element);\n",
              "          const docLink = document.createElement('div');\n",
              "          docLink.innerHTML = docLinkHtml;\n",
              "          element.appendChild(docLink);\n",
              "        }\n",
              "      </script>\n",
              "    </div>\n",
              "  </div>\n",
              "  "
            ]
          },
          "metadata": {},
          "execution_count": 9
        }
      ]
    },
    {
      "cell_type": "code",
      "source": [
        "df_creditos.head()"
      ],
      "metadata": {
        "colab": {
          "base_uri": "https://localhost:8080/",
          "height": 206
        },
        "id": "qcs6Y8Jljbq1",
        "outputId": "085f133f-4b64-4f90-9f84-bb351b3df866"
      },
      "execution_count": 10,
      "outputs": [
        {
          "output_type": "execute_result",
          "data": {
            "text/plain": [
              "                                           indicator  \\\n",
              "0  {'id': 'FD.AST.PRVT.GD.ZS', 'value': 'Domestic...   \n",
              "1  {'id': 'FD.AST.PRVT.GD.ZS', 'value': 'Domestic...   \n",
              "2  {'id': 'FD.AST.PRVT.GD.ZS', 'value': 'Domestic...   \n",
              "3  {'id': 'FD.AST.PRVT.GD.ZS', 'value': 'Domestic...   \n",
              "4  {'id': 'FD.AST.PRVT.GD.ZS', 'value': 'Domestic...   \n",
              "\n",
              "                          country countryiso3code  date      value unit  \\\n",
              "0  {'id': 'IN', 'value': 'India'}             IND  2022        NaN        \n",
              "1  {'id': 'IN', 'value': 'India'}             IND  2021  50.412164        \n",
              "2  {'id': 'IN', 'value': 'India'}             IND  2020  54.571722        \n",
              "3  {'id': 'IN', 'value': 'India'}             IND  2019  50.742462        \n",
              "4  {'id': 'IN', 'value': 'India'}             IND  2018  50.338163        \n",
              "\n",
              "  obs_status  decimal  \n",
              "0                   1  \n",
              "1                   1  \n",
              "2                   1  \n",
              "3                   1  \n",
              "4                   1  "
            ],
            "text/html": [
              "\n",
              "  <div id=\"df-ffcf77e2-56fd-4b22-b475-3a1bcdf1f411\">\n",
              "    <div class=\"colab-df-container\">\n",
              "      <div>\n",
              "<style scoped>\n",
              "    .dataframe tbody tr th:only-of-type {\n",
              "        vertical-align: middle;\n",
              "    }\n",
              "\n",
              "    .dataframe tbody tr th {\n",
              "        vertical-align: top;\n",
              "    }\n",
              "\n",
              "    .dataframe thead th {\n",
              "        text-align: right;\n",
              "    }\n",
              "</style>\n",
              "<table border=\"1\" class=\"dataframe\">\n",
              "  <thead>\n",
              "    <tr style=\"text-align: right;\">\n",
              "      <th></th>\n",
              "      <th>indicator</th>\n",
              "      <th>country</th>\n",
              "      <th>countryiso3code</th>\n",
              "      <th>date</th>\n",
              "      <th>value</th>\n",
              "      <th>unit</th>\n",
              "      <th>obs_status</th>\n",
              "      <th>decimal</th>\n",
              "    </tr>\n",
              "  </thead>\n",
              "  <tbody>\n",
              "    <tr>\n",
              "      <th>0</th>\n",
              "      <td>{'id': 'FD.AST.PRVT.GD.ZS', 'value': 'Domestic...</td>\n",
              "      <td>{'id': 'IN', 'value': 'India'}</td>\n",
              "      <td>IND</td>\n",
              "      <td>2022</td>\n",
              "      <td>NaN</td>\n",
              "      <td></td>\n",
              "      <td></td>\n",
              "      <td>1</td>\n",
              "    </tr>\n",
              "    <tr>\n",
              "      <th>1</th>\n",
              "      <td>{'id': 'FD.AST.PRVT.GD.ZS', 'value': 'Domestic...</td>\n",
              "      <td>{'id': 'IN', 'value': 'India'}</td>\n",
              "      <td>IND</td>\n",
              "      <td>2021</td>\n",
              "      <td>50.412164</td>\n",
              "      <td></td>\n",
              "      <td></td>\n",
              "      <td>1</td>\n",
              "    </tr>\n",
              "    <tr>\n",
              "      <th>2</th>\n",
              "      <td>{'id': 'FD.AST.PRVT.GD.ZS', 'value': 'Domestic...</td>\n",
              "      <td>{'id': 'IN', 'value': 'India'}</td>\n",
              "      <td>IND</td>\n",
              "      <td>2020</td>\n",
              "      <td>54.571722</td>\n",
              "      <td></td>\n",
              "      <td></td>\n",
              "      <td>1</td>\n",
              "    </tr>\n",
              "    <tr>\n",
              "      <th>3</th>\n",
              "      <td>{'id': 'FD.AST.PRVT.GD.ZS', 'value': 'Domestic...</td>\n",
              "      <td>{'id': 'IN', 'value': 'India'}</td>\n",
              "      <td>IND</td>\n",
              "      <td>2019</td>\n",
              "      <td>50.742462</td>\n",
              "      <td></td>\n",
              "      <td></td>\n",
              "      <td>1</td>\n",
              "    </tr>\n",
              "    <tr>\n",
              "      <th>4</th>\n",
              "      <td>{'id': 'FD.AST.PRVT.GD.ZS', 'value': 'Domestic...</td>\n",
              "      <td>{'id': 'IN', 'value': 'India'}</td>\n",
              "      <td>IND</td>\n",
              "      <td>2018</td>\n",
              "      <td>50.338163</td>\n",
              "      <td></td>\n",
              "      <td></td>\n",
              "      <td>1</td>\n",
              "    </tr>\n",
              "  </tbody>\n",
              "</table>\n",
              "</div>\n",
              "      <button class=\"colab-df-convert\" onclick=\"convertToInteractive('df-ffcf77e2-56fd-4b22-b475-3a1bcdf1f411')\"\n",
              "              title=\"Convert this dataframe to an interactive table.\"\n",
              "              style=\"display:none;\">\n",
              "        \n",
              "  <svg xmlns=\"http://www.w3.org/2000/svg\" height=\"24px\"viewBox=\"0 0 24 24\"\n",
              "       width=\"24px\">\n",
              "    <path d=\"M0 0h24v24H0V0z\" fill=\"none\"/>\n",
              "    <path d=\"M18.56 5.44l.94 2.06.94-2.06 2.06-.94-2.06-.94-.94-2.06-.94 2.06-2.06.94zm-11 1L8.5 8.5l.94-2.06 2.06-.94-2.06-.94L8.5 2.5l-.94 2.06-2.06.94zm10 10l.94 2.06.94-2.06 2.06-.94-2.06-.94-.94-2.06-.94 2.06-2.06.94z\"/><path d=\"M17.41 7.96l-1.37-1.37c-.4-.4-.92-.59-1.43-.59-.52 0-1.04.2-1.43.59L10.3 9.45l-7.72 7.72c-.78.78-.78 2.05 0 2.83L4 21.41c.39.39.9.59 1.41.59.51 0 1.02-.2 1.41-.59l7.78-7.78 2.81-2.81c.8-.78.8-2.07 0-2.86zM5.41 20L4 18.59l7.72-7.72 1.47 1.35L5.41 20z\"/>\n",
              "  </svg>\n",
              "      </button>\n",
              "      \n",
              "  <style>\n",
              "    .colab-df-container {\n",
              "      display:flex;\n",
              "      flex-wrap:wrap;\n",
              "      gap: 12px;\n",
              "    }\n",
              "\n",
              "    .colab-df-convert {\n",
              "      background-color: #E8F0FE;\n",
              "      border: none;\n",
              "      border-radius: 50%;\n",
              "      cursor: pointer;\n",
              "      display: none;\n",
              "      fill: #1967D2;\n",
              "      height: 32px;\n",
              "      padding: 0 0 0 0;\n",
              "      width: 32px;\n",
              "    }\n",
              "\n",
              "    .colab-df-convert:hover {\n",
              "      background-color: #E2EBFA;\n",
              "      box-shadow: 0px 1px 2px rgba(60, 64, 67, 0.3), 0px 1px 3px 1px rgba(60, 64, 67, 0.15);\n",
              "      fill: #174EA6;\n",
              "    }\n",
              "\n",
              "    [theme=dark] .colab-df-convert {\n",
              "      background-color: #3B4455;\n",
              "      fill: #D2E3FC;\n",
              "    }\n",
              "\n",
              "    [theme=dark] .colab-df-convert:hover {\n",
              "      background-color: #434B5C;\n",
              "      box-shadow: 0px 1px 3px 1px rgba(0, 0, 0, 0.15);\n",
              "      filter: drop-shadow(0px 1px 2px rgba(0, 0, 0, 0.3));\n",
              "      fill: #FFFFFF;\n",
              "    }\n",
              "  </style>\n",
              "\n",
              "      <script>\n",
              "        const buttonEl =\n",
              "          document.querySelector('#df-ffcf77e2-56fd-4b22-b475-3a1bcdf1f411 button.colab-df-convert');\n",
              "        buttonEl.style.display =\n",
              "          google.colab.kernel.accessAllowed ? 'block' : 'none';\n",
              "\n",
              "        async function convertToInteractive(key) {\n",
              "          const element = document.querySelector('#df-ffcf77e2-56fd-4b22-b475-3a1bcdf1f411');\n",
              "          const dataTable =\n",
              "            await google.colab.kernel.invokeFunction('convertToInteractive',\n",
              "                                                     [key], {});\n",
              "          if (!dataTable) return;\n",
              "\n",
              "          const docLinkHtml = 'Like what you see? Visit the ' +\n",
              "            '<a target=\"_blank\" href=https://colab.research.google.com/notebooks/data_table.ipynb>data table notebook</a>'\n",
              "            + ' to learn more about interactive tables.';\n",
              "          element.innerHTML = '';\n",
              "          dataTable['output_type'] = 'display_data';\n",
              "          await google.colab.output.renderOutput(dataTable, element);\n",
              "          const docLink = document.createElement('div');\n",
              "          docLink.innerHTML = docLinkHtml;\n",
              "          element.appendChild(docLink);\n",
              "        }\n",
              "      </script>\n",
              "    </div>\n",
              "  </div>\n",
              "  "
            ]
          },
          "metadata": {},
          "execution_count": 10
        }
      ]
    },
    {
      "cell_type": "code",
      "source": [
        "df_tasa_real_int['indicator'] = 'Real interest rate (%)'\n",
        "df_tasa_real_int['country'] = 'India'\n",
        "df_tasa_real_int = df_tasa_real_int.rename(columns={'countryiso3code': 'country_code', 'value': 'real_interest_rate', 'indicator':'indicator_real_int'})"
      ],
      "metadata": {
        "id": "kIVizPHNjiVl"
      },
      "execution_count": 11,
      "outputs": []
    },
    {
      "cell_type": "code",
      "source": [
        "df_creditos['indicator'] = 'Domestic credit to private sector by banks (% of GDP)'\n",
        "df_creditos['country'] = 'India'\n",
        "df_creditos = df_creditos.rename(columns={'countryiso3code': 'country_code', 'value': 'credit_to_private_sector', 'indicator':'indicator_credit'})"
      ],
      "metadata": {
        "id": "o77oGDM_X-Rv"
      },
      "execution_count": 12,
      "outputs": []
    },
    {
      "cell_type": "code",
      "source": [
        "df = df_tasa_real_int.merge(df_creditos, how='left', on='date', suffixes=('', '_drop'))\n",
        "df = df.loc[:,~df.columns.str.endswith('_drop')]"
      ],
      "metadata": {
        "id": "MVjT6gjRZJZx"
      },
      "execution_count": 13,
      "outputs": []
    },
    {
      "cell_type": "code",
      "source": [
        "column_order = ['date', 'country_code', 'country', 'indicator_real_int', 'real_interest_rate', 'indicator_credit', 'credit_to_private_sector']\n",
        "df = df[column_order]"
      ],
      "metadata": {
        "id": "HIxYLLPXapWL"
      },
      "execution_count": 14,
      "outputs": []
    },
    {
      "cell_type": "code",
      "source": [
        "df.head()"
      ],
      "metadata": {
        "colab": {
          "base_uri": "https://localhost:8080/",
          "height": 206
        },
        "id": "YGSC5-qgmauD",
        "outputId": "cac9188e-f8df-41fb-bae8-79b850071710"
      },
      "execution_count": 15,
      "outputs": [
        {
          "output_type": "execute_result",
          "data": {
            "text/plain": [
              "   date country_code country      indicator_real_int  real_interest_rate  \\\n",
              "0  2022          IND   India  Real interest rate (%)            0.229815   \n",
              "1  2021          IND   India  Real interest rate (%)            0.147236   \n",
              "2  2020          IND   India  Real interest rate (%)            4.203910   \n",
              "3  2019          IND   India  Real interest rate (%)            6.894875   \n",
              "4  2018          IND   India  Real interest rate (%)            5.361666   \n",
              "\n",
              "                                    indicator_credit  credit_to_private_sector  \n",
              "0  Domestic credit to private sector by banks (% ...                       NaN  \n",
              "1  Domestic credit to private sector by banks (% ...                 50.412164  \n",
              "2  Domestic credit to private sector by banks (% ...                 54.571722  \n",
              "3  Domestic credit to private sector by banks (% ...                 50.742462  \n",
              "4  Domestic credit to private sector by banks (% ...                 50.338163  "
            ],
            "text/html": [
              "\n",
              "  <div id=\"df-99bf5f85-5fde-4fbc-9489-3af548119be8\">\n",
              "    <div class=\"colab-df-container\">\n",
              "      <div>\n",
              "<style scoped>\n",
              "    .dataframe tbody tr th:only-of-type {\n",
              "        vertical-align: middle;\n",
              "    }\n",
              "\n",
              "    .dataframe tbody tr th {\n",
              "        vertical-align: top;\n",
              "    }\n",
              "\n",
              "    .dataframe thead th {\n",
              "        text-align: right;\n",
              "    }\n",
              "</style>\n",
              "<table border=\"1\" class=\"dataframe\">\n",
              "  <thead>\n",
              "    <tr style=\"text-align: right;\">\n",
              "      <th></th>\n",
              "      <th>date</th>\n",
              "      <th>country_code</th>\n",
              "      <th>country</th>\n",
              "      <th>indicator_real_int</th>\n",
              "      <th>real_interest_rate</th>\n",
              "      <th>indicator_credit</th>\n",
              "      <th>credit_to_private_sector</th>\n",
              "    </tr>\n",
              "  </thead>\n",
              "  <tbody>\n",
              "    <tr>\n",
              "      <th>0</th>\n",
              "      <td>2022</td>\n",
              "      <td>IND</td>\n",
              "      <td>India</td>\n",
              "      <td>Real interest rate (%)</td>\n",
              "      <td>0.229815</td>\n",
              "      <td>Domestic credit to private sector by banks (% ...</td>\n",
              "      <td>NaN</td>\n",
              "    </tr>\n",
              "    <tr>\n",
              "      <th>1</th>\n",
              "      <td>2021</td>\n",
              "      <td>IND</td>\n",
              "      <td>India</td>\n",
              "      <td>Real interest rate (%)</td>\n",
              "      <td>0.147236</td>\n",
              "      <td>Domestic credit to private sector by banks (% ...</td>\n",
              "      <td>50.412164</td>\n",
              "    </tr>\n",
              "    <tr>\n",
              "      <th>2</th>\n",
              "      <td>2020</td>\n",
              "      <td>IND</td>\n",
              "      <td>India</td>\n",
              "      <td>Real interest rate (%)</td>\n",
              "      <td>4.203910</td>\n",
              "      <td>Domestic credit to private sector by banks (% ...</td>\n",
              "      <td>54.571722</td>\n",
              "    </tr>\n",
              "    <tr>\n",
              "      <th>3</th>\n",
              "      <td>2019</td>\n",
              "      <td>IND</td>\n",
              "      <td>India</td>\n",
              "      <td>Real interest rate (%)</td>\n",
              "      <td>6.894875</td>\n",
              "      <td>Domestic credit to private sector by banks (% ...</td>\n",
              "      <td>50.742462</td>\n",
              "    </tr>\n",
              "    <tr>\n",
              "      <th>4</th>\n",
              "      <td>2018</td>\n",
              "      <td>IND</td>\n",
              "      <td>India</td>\n",
              "      <td>Real interest rate (%)</td>\n",
              "      <td>5.361666</td>\n",
              "      <td>Domestic credit to private sector by banks (% ...</td>\n",
              "      <td>50.338163</td>\n",
              "    </tr>\n",
              "  </tbody>\n",
              "</table>\n",
              "</div>\n",
              "      <button class=\"colab-df-convert\" onclick=\"convertToInteractive('df-99bf5f85-5fde-4fbc-9489-3af548119be8')\"\n",
              "              title=\"Convert this dataframe to an interactive table.\"\n",
              "              style=\"display:none;\">\n",
              "        \n",
              "  <svg xmlns=\"http://www.w3.org/2000/svg\" height=\"24px\"viewBox=\"0 0 24 24\"\n",
              "       width=\"24px\">\n",
              "    <path d=\"M0 0h24v24H0V0z\" fill=\"none\"/>\n",
              "    <path d=\"M18.56 5.44l.94 2.06.94-2.06 2.06-.94-2.06-.94-.94-2.06-.94 2.06-2.06.94zm-11 1L8.5 8.5l.94-2.06 2.06-.94-2.06-.94L8.5 2.5l-.94 2.06-2.06.94zm10 10l.94 2.06.94-2.06 2.06-.94-2.06-.94-.94-2.06-.94 2.06-2.06.94z\"/><path d=\"M17.41 7.96l-1.37-1.37c-.4-.4-.92-.59-1.43-.59-.52 0-1.04.2-1.43.59L10.3 9.45l-7.72 7.72c-.78.78-.78 2.05 0 2.83L4 21.41c.39.39.9.59 1.41.59.51 0 1.02-.2 1.41-.59l7.78-7.78 2.81-2.81c.8-.78.8-2.07 0-2.86zM5.41 20L4 18.59l7.72-7.72 1.47 1.35L5.41 20z\"/>\n",
              "  </svg>\n",
              "      </button>\n",
              "      \n",
              "  <style>\n",
              "    .colab-df-container {\n",
              "      display:flex;\n",
              "      flex-wrap:wrap;\n",
              "      gap: 12px;\n",
              "    }\n",
              "\n",
              "    .colab-df-convert {\n",
              "      background-color: #E8F0FE;\n",
              "      border: none;\n",
              "      border-radius: 50%;\n",
              "      cursor: pointer;\n",
              "      display: none;\n",
              "      fill: #1967D2;\n",
              "      height: 32px;\n",
              "      padding: 0 0 0 0;\n",
              "      width: 32px;\n",
              "    }\n",
              "\n",
              "    .colab-df-convert:hover {\n",
              "      background-color: #E2EBFA;\n",
              "      box-shadow: 0px 1px 2px rgba(60, 64, 67, 0.3), 0px 1px 3px 1px rgba(60, 64, 67, 0.15);\n",
              "      fill: #174EA6;\n",
              "    }\n",
              "\n",
              "    [theme=dark] .colab-df-convert {\n",
              "      background-color: #3B4455;\n",
              "      fill: #D2E3FC;\n",
              "    }\n",
              "\n",
              "    [theme=dark] .colab-df-convert:hover {\n",
              "      background-color: #434B5C;\n",
              "      box-shadow: 0px 1px 3px 1px rgba(0, 0, 0, 0.15);\n",
              "      filter: drop-shadow(0px 1px 2px rgba(0, 0, 0, 0.3));\n",
              "      fill: #FFFFFF;\n",
              "    }\n",
              "  </style>\n",
              "\n",
              "      <script>\n",
              "        const buttonEl =\n",
              "          document.querySelector('#df-99bf5f85-5fde-4fbc-9489-3af548119be8 button.colab-df-convert');\n",
              "        buttonEl.style.display =\n",
              "          google.colab.kernel.accessAllowed ? 'block' : 'none';\n",
              "\n",
              "        async function convertToInteractive(key) {\n",
              "          const element = document.querySelector('#df-99bf5f85-5fde-4fbc-9489-3af548119be8');\n",
              "          const dataTable =\n",
              "            await google.colab.kernel.invokeFunction('convertToInteractive',\n",
              "                                                     [key], {});\n",
              "          if (!dataTable) return;\n",
              "\n",
              "          const docLinkHtml = 'Like what you see? Visit the ' +\n",
              "            '<a target=\"_blank\" href=https://colab.research.google.com/notebooks/data_table.ipynb>data table notebook</a>'\n",
              "            + ' to learn more about interactive tables.';\n",
              "          element.innerHTML = '';\n",
              "          dataTable['output_type'] = 'display_data';\n",
              "          await google.colab.output.renderOutput(dataTable, element);\n",
              "          const docLink = document.createElement('div');\n",
              "          docLink.innerHTML = docLinkHtml;\n",
              "          element.appendChild(docLink);\n",
              "        }\n",
              "      </script>\n",
              "    </div>\n",
              "  </div>\n",
              "  "
            ]
          },
          "metadata": {},
          "execution_count": 15
        }
      ]
    },
    {
      "cell_type": "code",
      "source": [
        "df.info()"
      ],
      "metadata": {
        "colab": {
          "base_uri": "https://localhost:8080/"
        },
        "id": "XqPIPNbeq_m3",
        "outputId": "f96469d8-509b-4b5c-eb1b-28b445465806"
      },
      "execution_count": 16,
      "outputs": [
        {
          "output_type": "stream",
          "name": "stdout",
          "text": [
            "<class 'pandas.core.frame.DataFrame'>\n",
            "Int64Index: 50 entries, 0 to 49\n",
            "Data columns (total 7 columns):\n",
            " #   Column                    Non-Null Count  Dtype  \n",
            "---  ------                    --------------  -----  \n",
            " 0   date                      50 non-null     object \n",
            " 1   country_code              50 non-null     object \n",
            " 2   country                   50 non-null     object \n",
            " 3   indicator_real_int        50 non-null     object \n",
            " 4   real_interest_rate        45 non-null     float64\n",
            " 5   indicator_credit          50 non-null     object \n",
            " 6   credit_to_private_sector  49 non-null     float64\n",
            "dtypes: float64(2), object(5)\n",
            "memory usage: 3.1+ KB\n"
          ]
        }
      ]
    },
    {
      "cell_type": "code",
      "source": [
        "import matplotlib.pyplot as plt\n",
        "\n",
        "df_india = df[df['country'] == 'India']\n",
        "tasa_interes_real = df_india['real_interest_rate']\n",
        "creditos_privados = df_india['credit_to_private_sector']\n",
        "\n",
        "fig, ax = plt.subplots()\n",
        "ax.plot(df_india['date'][::-1], tasa_interes_real[::-1], label='Tasa de Interés Real')\n",
        "ax.plot(df_india['date'][::-1], creditos_privados[::-1], label='Créditos al Sector Privado')\n",
        "ax.set_xlabel('Fecha')\n",
        "ax.set_ylabel('Valor')\n",
        "ax.set_title('Tasa de Interés Real vs. Créditos al Sector Privado en India')\n",
        "ax.legend()\n",
        "plt.xticks(rotation=90)\n",
        "plt.show()\n"
      ],
      "metadata": {
        "colab": {
          "base_uri": "https://localhost:8080/",
          "height": 493
        },
        "id": "cfsKV1dxrMNG",
        "outputId": "0e07e398-8542-4ed8-bc18-457c86e628c8"
      },
      "execution_count": 17,
      "outputs": [
        {
          "output_type": "display_data",
          "data": {
            "text/plain": [
              "<Figure size 640x480 with 1 Axes>"
            ],
            "image/png": "[encoded data removed]"
          },
          "metadata": {}
        }
      ]
    },
    {
      "cell_type": "markdown",
      "source": [
        "Tras analizar los datos de la Tasa de Interés Real Anual en India, se puede observar que esta ha oscilado históricamente en un rango de 0 a 10 puntos porcentuales. Sin embargo, se ha observado una disminución significativa desde el inicio de la pandemia, con una tendencia que tiende hacia cero.\n",
        "\n",
        "Esta disminución en la tasa de interés real puede indicar una política monetaria expansiva implementada para estimular la economía durante la crisis de la pandemia. Una tasa de interés real más baja puede incentivar la inversión y el gasto, lo que potencialmente impulsa el crecimiento económico."
      ],
      "metadata": {
        "id": "ZrTzFLBkua3M"
      }
    },
    {
      "cell_type": "markdown",
      "source": [
        "Los datos de los Créditos al Sector Privado en India, se puede observar una tendencia positiva a lo largo de los años. Esta tendencia muestra que la proporción de créditos otorgados al sector privado ha incrementado gradualmente. Este aumento en los créditos al sector privado puede tener implicaciones positivas en el crecimiento y desarrollo económico de las empresas, así como en la generación de empleo."
      ],
      "metadata": {
        "id": "mQ_esD0TsaKu"
      }
    }
  ]
}